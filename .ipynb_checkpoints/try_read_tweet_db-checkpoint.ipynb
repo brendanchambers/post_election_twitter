{
 "cells": [
  {
   "cell_type": "code",
   "execution_count": 2,
   "metadata": {},
   "outputs": [],
   "source": [
    "import sqlite3\n",
    "import pandas as pd\n",
    "import numpy as np\n",
    "import matplotlib.pyplot as plt\n"
   ]
  },
  {
   "cell_type": "code",
   "execution_count": 3,
   "metadata": {},
   "outputs": [
    {
     "ename": "IndentationError",
     "evalue": "unexpected indent (<ipython-input-3-91a0ed59e13c>, line 21)",
     "output_type": "error",
     "traceback": [
      "\u001b[1;36m  File \u001b[1;32m\"<ipython-input-3-91a0ed59e13c>\"\u001b[1;36m, line \u001b[1;32m21\u001b[0m\n\u001b[1;33m    \"db_path = 'data/' + abstracts_db_name + '.db'\\n\",\u001b[0m\n\u001b[1;37m    ^\u001b[0m\n\u001b[1;31mIndentationError\u001b[0m\u001b[1;31m:\u001b[0m unexpected indent\n"
     ]
    }
   ],
   "source": [
    "# data path\n",
    "db_name = 'tweets_keyword_abrams_10172018_0415'\n",
    "db_path = 'data/' + db_name + '.db'\n",
    "\n",
    "db = sqlite3.connect(db_path)\n",
    "print('database connected')\n",
    "\n",
    "# cursor method\n",
    "cursor = db.cusor()\n",
    "\n",
    "# get some metadata\n",
    "total_rows(cursor, db_name, print_out=True)\n",
    "table_col_info(cursor, db_name, print_out=True)\n",
    "\n",
    "\n",
    "\n",
    "\n",
    "\n",
    "\n",
    "\"abstracts_db_name = 'plos_cb_abstracts_3years'\\n\",\n",
    "    \"db_path = 'data/' + abstracts_db_name + '.db'\\n\",\n",
    "    \"\\n\",\n",
    "    \"# connect to the database\\n\",\n",
    "    \"db = sqlite3.connect(db_path)\\n\",\n",
    "    \"print('database connected')\\n\",\n",
    "    \"\\n\",\n",
    "    \"# cursor method\\n\",\n",
    "    \"#cursor = db.cursor()\\n\",\n",
    "    \"#cursor.execute(\\\"SELECT * FROM plos_cb_abstracts\\\")\\n\",\n",
    "    \"\\n\",\n",
    "    \"# since there are ~ 5,000 entries, just read directly into a pandas dataframe\\n\",\n",
    "    \"df = pd.read_sql_query(\\\"select * from {}\\\".format(abstracts_db_name), db)\\n\",\n",
    "    \"df\\n\"\n"
   ]
  },
  {
   "cell_type": "code",
   "execution_count": null,
   "metadata": {},
   "outputs": [],
   "source": []
  }
 ],
 "metadata": {
  "kernelspec": {
   "display_name": "Python 2",
   "language": "python",
   "name": "python2"
  },
  "language_info": {
   "codemirror_mode": {
    "name": "ipython",
    "version": 2
   },
   "file_extension": ".py",
   "mimetype": "text/x-python",
   "name": "python",
   "nbconvert_exporter": "python",
   "pygments_lexer": "ipython2",
   "version": "2.7.15"
  }
 },
 "nbformat": 4,
 "nbformat_minor": 2
}
